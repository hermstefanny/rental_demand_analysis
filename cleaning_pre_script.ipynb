{
 "cells": [
  {
   "cell_type": "code",
   "execution_count": null,
   "metadata": {},
   "outputs": [],
   "source": [
    "import numpy as np \n",
    "import pandas as pd\n",
    "from IPython.display import display"
   ]
  },
  {
   "cell_type": "code",
   "execution_count": null,
   "metadata": {},
   "outputs": [],
   "source": [
    "pd.set_option('display.max_rows', None)\n",
    "pd.set_option('display.max_columns', None)"
   ]
  },
  {
   "cell_type": "code",
   "execution_count": null,
   "metadata": {},
   "outputs": [],
   "source": [
    "raw_rental_data = pd.read_csv(r'housing_train.csv')"
   ]
  },
  {
   "cell_type": "code",
   "execution_count": null,
   "metadata": {},
   "outputs": [],
   "source": [
    "raw_rental_data.head()"
   ]
  },
  {
   "cell_type": "code",
   "execution_count": null,
   "metadata": {},
   "outputs": [],
   "source": [
    "#rental_data_ver1 does not have columns: 'url', 'region_url' and 'description' \n",
    "rental_data_ver1 = raw_rental_data.drop(columns=['url', 'region_url', 'description'])"
   ]
  },
  {
   "cell_type": "code",
   "execution_count": null,
   "metadata": {},
   "outputs": [],
   "source": [
    "for column in rental_data_ver1.columns:\n",
    "    print(f'\\n************')\n",
    "    print(f'\\nValues by attribute {column}: ')\n",
    "    print(rental_data_ver1[column].value_counts())\n",
    "    print(f'\\nValues in {column} that are NaN:')\n",
    "    print(rental_data_ver1[column].isna().sum())"
   ]
  },
  {
   "cell_type": "markdown",
   "metadata": {},
   "source": [
    "## Demand"
   ]
  },
  {
   "cell_type": "markdown",
   "metadata": {},
   "source": [
    "Slashing the columns that have rubbish in demand"
   ]
  },
  {
   "cell_type": "code",
   "execution_count": null,
   "metadata": {},
   "outputs": [],
   "source": [
    "demand_values = rental_data_ver1['demand'].value_counts()\n",
    "print(f\"Values by demand.\")\n",
    "print(demand_values)\n"
   ]
  },
  {
   "cell_type": "markdown",
   "metadata": {},
   "source": [
    "Remove instances with wrong values."
   ]
  },
  {
   "cell_type": "code",
   "execution_count": null,
   "metadata": {},
   "outputs": [],
   "source": [
    "rubish_val = rental_data_ver1['demand'].str.startswith('https')\n",
    "rental_data_ver1 = rental_data_ver1[~rubish_val]"
   ]
  },
  {
   "cell_type": "code",
   "execution_count": null,
   "metadata": {},
   "outputs": [],
   "source": [
    "clean_demand_values = rental_data_ver1['demand'].value_counts()\n",
    "print(f\"Values by demand.\")\n",
    "print(demand_values)"
   ]
  },
  {
   "cell_type": "markdown",
   "metadata": {},
   "source": [
    "Visualize the typos in demand"
   ]
  },
  {
   "cell_type": "code",
   "execution_count": null,
   "metadata": {},
   "outputs": [],
   "source": [
    "typos = (rental_data_ver1['demand'] == 'yes' ) | (rental_data_ver1['demand'] == 'no')"
   ]
  },
  {
   "cell_type": "code",
   "execution_count": null,
   "metadata": {},
   "outputs": [],
   "source": [
    "demand_typos = rental_data_ver1[~typos]['demand']\n",
    "print(demand_typos)"
   ]
  },
  {
   "cell_type": "markdown",
   "metadata": {},
   "source": [
    "We realized all typos should be no, so we change it to 'no'"
   ]
  },
  {
   "cell_type": "code",
   "execution_count": null,
   "metadata": {},
   "outputs": [],
   "source": [
    "rental_data_ver1['demand'] = rental_data_ver1['demand'].replace(demand_typos.values, 'no') "
   ]
  },
  {
   "cell_type": "code",
   "execution_count": null,
   "metadata": {},
   "outputs": [],
   "source": [
    "#checking that there are not typos anymore\n",
    "rental_data_ver1[~((rental_data_ver1['demand'] == 'yes' ) | (rental_data_ver1['demand'] == 'no'))]"
   ]
  },
  {
   "cell_type": "markdown",
   "metadata": {},
   "source": [
    "## Region"
   ]
  },
  {
   "cell_type": "markdown",
   "metadata": {},
   "source": [
    "Displaying values by attribute 'region'"
   ]
  },
  {
   "cell_type": "code",
   "execution_count": null,
   "metadata": {},
   "outputs": [],
   "source": [
    "\n",
    "display(rental_data_ver1['region'].value_counts())"
   ]
  },
  {
   "cell_type": "markdown",
   "metadata": {},
   "source": [
    "We found that there are reasonable values here, so no modification is done"
   ]
  },
  {
   "cell_type": "markdown",
   "metadata": {},
   "source": [
    "## Rent"
   ]
  },
  {
   "cell_type": "markdown",
   "metadata": {},
   "source": [
    "Displaying values by attribute 'rent'"
   ]
  },
  {
   "cell_type": "code",
   "execution_count": null,
   "metadata": {},
   "outputs": [],
   "source": [
    "rent_summary = rental_data_ver1['rent'].describe()\n",
    "display(rent_summary)"
   ]
  },
  {
   "cell_type": "markdown",
   "metadata": {},
   "source": [
    "By the description, we can see that there are outliers, like the max values having the range of millions, nad the min of zero"
   ]
  },
  {
   "cell_type": "code",
   "execution_count": null,
   "metadata": {},
   "outputs": [],
   "source": [
    "print(\"Low values\")\n",
    "display(rental_data_ver1['rent'].value_counts().sort_index().head())\n",
    "print(\"HIgh values\")\n",
    "display(rental_data_ver1['rent'].value_counts().sort_index().tail(10))"
   ]
  },
  {
   "cell_type": "markdown",
   "metadata": {},
   "source": [
    "If we see the details of the locations that are greateer than 10000, we see that two of them are not consitent with the data, they are two small to have such a price.\n",
    "Therefore, ntentionally we will remove the two highest values, which we for sure know they are outliers."
   ]
  },
  {
   "cell_type": "code",
   "execution_count": null,
   "metadata": {},
   "outputs": [],
   "source": [
    "rental_data_ver1[(rental_data_ver1['rent'] >= 10000)]"
   ]
  },
  {
   "cell_type": "code",
   "execution_count": null,
   "metadata": {},
   "outputs": [],
   "source": [
    "rental_data_ver1 = rental_data_ver1[~(rental_data_ver1['rent'] >= 90000)]"
   ]
  },
  {
   "cell_type": "markdown",
   "metadata": {},
   "source": [
    "We wil use  the theory to find the outliers with the IQR."
   ]
  },
  {
   "cell_type": "code",
   "execution_count": null,
   "metadata": {},
   "outputs": [],
   "source": [
    "rental_data_ver1.head()"
   ]
  },
  {
   "cell_type": "code",
   "execution_count": null,
   "metadata": {},
   "outputs": [],
   "source": [
    "rent_summary = rental_data_ver1['rent'].describe()\n",
    "display(rent_summary)\n",
    "\n",
    "rent_q1 = rent_summary.loc['25%']\n",
    "rent_q3 = rent_summary.loc['75%']\n",
    "rent_iqr = rent_q3 - rent_q1 \n",
    "\n",
    "lower_rent_limit = rent_q1 - 1.5 * rent_iqr\n",
    "upper_rent_limit = rent_q3 + 2.5 * rent_iqr\n",
    "print(f'lower limit {lower_rent_limit} and upper {upper_rent_limit}')"
   ]
  },
  {
   "cell_type": "markdown",
   "metadata": {},
   "source": [
    "Looking at the result, we verify that the upper value is in a range that should no be consider an  outlier by the business context, and the same for the lower values, which should not be lowere than 0. This could be because of the existence of too many outlier, that sare not longer conisder outliers."
   ]
  },
  {
   "cell_type": "markdown",
   "metadata": {},
   "source": [
    "## Type of apartment"
   ]
  },
  {
   "cell_type": "markdown",
   "metadata": {},
   "source": [
    "Displaying values by attribute 'type'"
   ]
  },
  {
   "cell_type": "code",
   "execution_count": null,
   "metadata": {},
   "outputs": [],
   "source": [
    "display(rental_data_ver1['type'].value_counts())"
   ]
  },
  {
   "cell_type": "code",
   "execution_count": null,
   "metadata": {},
   "outputs": [],
   "source": [
    "type_typos = rental_data_ver1[(rental_data_ver1['type'] == 'land') | (rental_data_ver1['type'] == 'flat')]\n",
    "display(type_typos)"
   ]
  },
  {
   "cell_type": "code",
   "execution_count": null,
   "metadata": {},
   "outputs": [],
   "source": [
    "rental_data_ver1['type'] = rental_data_ver1['type'].replace(['flat', 'land'], 'apartment') "
   ]
  },
  {
   "cell_type": "code",
   "execution_count": null,
   "metadata": {},
   "outputs": [],
   "source": [
    "display(rental_data_ver1['type'].value_counts())"
   ]
  },
  {
   "cell_type": "markdown",
   "metadata": {},
   "source": [
    "## Square Feet"
   ]
  },
  {
   "cell_type": "code",
   "execution_count": null,
   "metadata": {},
   "outputs": [],
   "source": [
    "area_summary = rental_data_ver1['sqfeet'].describe()\n",
    "display(area_summary)"
   ]
  },
  {
   "cell_type": "code",
   "execution_count": null,
   "metadata": {},
   "outputs": [],
   "source": [
    "rental_data_ver1['sqfeet'].value_counts().sort_index().tail(10)"
   ]
  },
  {
   "cell_type": "code",
   "execution_count": null,
   "metadata": {},
   "outputs": [],
   "source": [
    "rental_data_ver1[rental_data_ver1['sqfeet']> 7000]"
   ]
  },
  {
   "cell_type": "code",
   "execution_count": null,
   "metadata": {},
   "outputs": [],
   "source": [
    "rental_data_ver1 = rental_data_ver1[~(rental_data_ver1['sqfeet'] >= 70000)]\n"
   ]
  },
  {
   "cell_type": "markdown",
   "metadata": {},
   "source": [
    "## bedrooms"
   ]
  },
  {
   "cell_type": "code",
   "execution_count": null,
   "metadata": {},
   "outputs": [],
   "source": [
    "bedrooms_summary = rental_data_ver1['bedrooms'].describe()\n",
    "display(bedrooms_summary)\n",
    "display(rental_data_ver1['bedrooms'].value_counts())"
   ]
  },
  {
   "cell_type": "markdown",
   "metadata": {},
   "source": [
    "Everything seems to check out"
   ]
  },
  {
   "cell_type": "markdown",
   "metadata": {},
   "source": [
    "## bathrooms"
   ]
  },
  {
   "cell_type": "code",
   "execution_count": null,
   "metadata": {},
   "outputs": [],
   "source": [
    "baths_summary = rental_data_ver1['bathrooms'].describe()\n",
    "display(baths_summary)\n",
    "display(rental_data_ver1['bathrooms'].value_counts())"
   ]
  },
  {
   "cell_type": "markdown",
   "metadata": {},
   "source": [
    "Everything seems to check out"
   ]
  },
  {
   "cell_type": "markdown",
   "metadata": {},
   "source": [
    "## Binary values"
   ]
  },
  {
   "cell_type": "code",
   "execution_count": null,
   "metadata": {},
   "outputs": [],
   "source": [
    "for cat in ['cats_allowed', 'dogs_allowed', \"smoking_allowed\", \"wheelchair_access\" ,\"electric_vehicle_charge\", \t\"comes_furnished\"]:\n",
    "    display(rental_data_ver1[cat].value_counts())"
   ]
  },
  {
   "cell_type": "markdown",
   "metadata": {},
   "source": [
    "Everything seems to check out"
   ]
  },
  {
   "cell_type": "markdown",
   "metadata": {},
   "source": [
    "## laundry options"
   ]
  },
  {
   "cell_type": "code",
   "execution_count": null,
   "metadata": {},
   "outputs": [],
   "source": [
    "display(rental_data_ver1[\"laundry_options\"].value_counts())"
   ]
  },
  {
   "cell_type": "markdown",
   "metadata": {},
   "source": [
    "## parking_options"
   ]
  },
  {
   "cell_type": "code",
   "execution_count": null,
   "metadata": {},
   "outputs": [],
   "source": [
    "display(rental_data_ver1[\"parking_options\"].value_counts())"
   ]
  },
  {
   "cell_type": "markdown",
   "metadata": {},
   "source": [
    "## latitude \tlong"
   ]
  },
  {
   "cell_type": "code",
   "execution_count": null,
   "metadata": {},
   "outputs": [],
   "source": [
    "rental_data_ver1[\"latitude\"].describe()"
   ]
  },
  {
   "cell_type": "markdown",
   "metadata": {},
   "source": [
    "Looking for places outside USA"
   ]
  },
  {
   "cell_type": "code",
   "execution_count": null,
   "metadata": {},
   "outputs": [],
   "source": [
    "rental_data_ver1[(rental_data_ver1[\"latitude\"] < 24) | (rental_data_ver1[\"latitude\"] > 68) ]"
   ]
  },
  {
   "cell_type": "code",
   "execution_count": null,
   "metadata": {},
   "outputs": [],
   "source": [
    "rental_data_ver1[(rental_data_ver1[\"latitude\"] < 24) | (rental_data_ver1[\"latitude\"] > 68) ]"
   ]
  },
  {
   "cell_type": "code",
   "execution_count": 44,
   "metadata": {},
   "outputs": [
    {
     "data": {
      "text/plain": [
       "count    35508.000000\n",
       "mean      -105.447882\n",
       "std         23.526905\n",
       "min       -159.496000\n",
       "25%       -119.017000\n",
       "50%       -111.578000\n",
       "75%        -90.696500\n",
       "max        172.633000\n",
       "Name: long, dtype: float64"
      ]
     },
     "execution_count": 44,
     "metadata": {},
     "output_type": "execute_result"
    }
   ],
   "source": [
    "rental_data_ver1[\"long\"].describe()"
   ]
  },
  {
   "cell_type": "code",
   "execution_count": 47,
   "metadata": {},
   "outputs": [
    {
     "data": {
      "text/html": [
       "<div>\n",
       "<style scoped>\n",
       "    .dataframe tbody tr th:only-of-type {\n",
       "        vertical-align: middle;\n",
       "    }\n",
       "\n",
       "    .dataframe tbody tr th {\n",
       "        vertical-align: top;\n",
       "    }\n",
       "\n",
       "    .dataframe thead th {\n",
       "        text-align: right;\n",
       "    }\n",
       "</style>\n",
       "<table border=\"1\" class=\"dataframe\">\n",
       "  <thead>\n",
       "    <tr style=\"text-align: right;\">\n",
       "      <th></th>\n",
       "      <th>id</th>\n",
       "      <th>region</th>\n",
       "      <th>rent</th>\n",
       "      <th>type</th>\n",
       "      <th>sqfeet</th>\n",
       "      <th>bedrooms</th>\n",
       "      <th>bathrooms</th>\n",
       "      <th>cats_allowed</th>\n",
       "      <th>dogs_allowed</th>\n",
       "      <th>smoking_allowed</th>\n",
       "      <th>wheelchair_access</th>\n",
       "      <th>electric_vehicle_charge</th>\n",
       "      <th>comes_furnished</th>\n",
       "      <th>laundry_options</th>\n",
       "      <th>parking_options</th>\n",
       "      <th>demand</th>\n",
       "      <th>latitude</th>\n",
       "      <th>long</th>\n",
       "      <th>state</th>\n",
       "    </tr>\n",
       "  </thead>\n",
       "  <tbody>\n",
       "    <tr>\n",
       "      <th>13406</th>\n",
       "      <td>7035126252</td>\n",
       "      <td>fayetteville</td>\n",
       "      <td>720</td>\n",
       "      <td>apartment</td>\n",
       "      <td>544</td>\n",
       "      <td>1</td>\n",
       "      <td>1.0</td>\n",
       "      <td>1</td>\n",
       "      <td>1</td>\n",
       "      <td>1</td>\n",
       "      <td>0</td>\n",
       "      <td>0</td>\n",
       "      <td>0</td>\n",
       "      <td>w/d in unit</td>\n",
       "      <td>off-street parking</td>\n",
       "      <td>yes</td>\n",
       "      <td>36.22</td>\n",
       "      <td>94.1248</td>\n",
       "      <td>ar</td>\n",
       "    </tr>\n",
       "    <tr>\n",
       "      <th>13443</th>\n",
       "      <td>7035129783</td>\n",
       "      <td>fayetteville</td>\n",
       "      <td>770</td>\n",
       "      <td>apartment</td>\n",
       "      <td>669</td>\n",
       "      <td>1</td>\n",
       "      <td>1.0</td>\n",
       "      <td>1</td>\n",
       "      <td>1</td>\n",
       "      <td>1</td>\n",
       "      <td>0</td>\n",
       "      <td>0</td>\n",
       "      <td>0</td>\n",
       "      <td>w/d in unit</td>\n",
       "      <td>off-street parking</td>\n",
       "      <td>yes</td>\n",
       "      <td>36.22</td>\n",
       "      <td>94.1248</td>\n",
       "      <td>ar</td>\n",
       "    </tr>\n",
       "    <tr>\n",
       "      <th>13457</th>\n",
       "      <td>7035133685</td>\n",
       "      <td>fayetteville</td>\n",
       "      <td>815</td>\n",
       "      <td>apartment</td>\n",
       "      <td>889</td>\n",
       "      <td>2</td>\n",
       "      <td>1.0</td>\n",
       "      <td>1</td>\n",
       "      <td>1</td>\n",
       "      <td>1</td>\n",
       "      <td>0</td>\n",
       "      <td>0</td>\n",
       "      <td>0</td>\n",
       "      <td>w/d in unit</td>\n",
       "      <td>off-street parking</td>\n",
       "      <td>yes</td>\n",
       "      <td>36.22</td>\n",
       "      <td>94.1248</td>\n",
       "      <td>ar</td>\n",
       "    </tr>\n",
       "    <tr>\n",
       "      <th>14172</th>\n",
       "      <td>7048689247</td>\n",
       "      <td>fayetteville</td>\n",
       "      <td>855</td>\n",
       "      <td>apartment</td>\n",
       "      <td>960</td>\n",
       "      <td>2</td>\n",
       "      <td>2.0</td>\n",
       "      <td>1</td>\n",
       "      <td>1</td>\n",
       "      <td>1</td>\n",
       "      <td>0</td>\n",
       "      <td>0</td>\n",
       "      <td>0</td>\n",
       "      <td>w/d in unit</td>\n",
       "      <td>NaN</td>\n",
       "      <td>yes</td>\n",
       "      <td>36.22</td>\n",
       "      <td>94.1248</td>\n",
       "      <td>ar</td>\n",
       "    </tr>\n",
       "    <tr>\n",
       "      <th>14176</th>\n",
       "      <td>7043984781</td>\n",
       "      <td>fayetteville</td>\n",
       "      <td>800</td>\n",
       "      <td>apartment</td>\n",
       "      <td>960</td>\n",
       "      <td>2</td>\n",
       "      <td>2.0</td>\n",
       "      <td>1</td>\n",
       "      <td>1</td>\n",
       "      <td>1</td>\n",
       "      <td>0</td>\n",
       "      <td>0</td>\n",
       "      <td>0</td>\n",
       "      <td>w/d in unit</td>\n",
       "      <td>NaN</td>\n",
       "      <td>yes</td>\n",
       "      <td>36.22</td>\n",
       "      <td>94.1248</td>\n",
       "      <td>ar</td>\n",
       "    </tr>\n",
       "  </tbody>\n",
       "</table>\n",
       "</div>"
      ],
      "text/plain": [
       "               id        region  rent       type  sqfeet  bedrooms  bathrooms  \\\n",
       "13406  7035126252  fayetteville   720  apartment     544         1        1.0   \n",
       "13443  7035129783  fayetteville   770  apartment     669         1        1.0   \n",
       "13457  7035133685  fayetteville   815  apartment     889         2        1.0   \n",
       "14172  7048689247  fayetteville   855  apartment     960         2        2.0   \n",
       "14176  7043984781  fayetteville   800  apartment     960         2        2.0   \n",
       "\n",
       "       cats_allowed  dogs_allowed  smoking_allowed  wheelchair_access  \\\n",
       "13406             1             1                1                  0   \n",
       "13443             1             1                1                  0   \n",
       "13457             1             1                1                  0   \n",
       "14172             1             1                1                  0   \n",
       "14176             1             1                1                  0   \n",
       "\n",
       "       electric_vehicle_charge  comes_furnished laundry_options  \\\n",
       "13406                        0                0     w/d in unit   \n",
       "13443                        0                0     w/d in unit   \n",
       "13457                        0                0     w/d in unit   \n",
       "14172                        0                0     w/d in unit   \n",
       "14176                        0                0     w/d in unit   \n",
       "\n",
       "          parking_options demand  latitude     long state  \n",
       "13406  off-street parking    yes     36.22  94.1248    ar  \n",
       "13443  off-street parking    yes     36.22  94.1248    ar  \n",
       "13457  off-street parking    yes     36.22  94.1248    ar  \n",
       "14172                 NaN    yes     36.22  94.1248    ar  \n",
       "14176                 NaN    yes     36.22  94.1248    ar  "
      ]
     },
     "execution_count": 47,
     "metadata": {},
     "output_type": "execute_result"
    }
   ],
   "source": [
    "rental_data_ver1[(rental_data_ver1[\"long\"] > -66) | (rental_data_ver1[\"long\"] < -172) ].head()"
   ]
  },
  {
   "cell_type": "code",
   "execution_count": null,
   "metadata": {},
   "outputs": [],
   "source": []
  }
 ],
 "metadata": {
  "kernelspec": {
   "display_name": "apenv",
   "language": "python",
   "name": "python3"
  },
  "language_info": {
   "codemirror_mode": {
    "name": "ipython",
    "version": 3
   },
   "file_extension": ".py",
   "mimetype": "text/x-python",
   "name": "python",
   "nbconvert_exporter": "python",
   "pygments_lexer": "ipython3",
   "version": "3.11.7"
  }
 },
 "nbformat": 4,
 "nbformat_minor": 2
}
